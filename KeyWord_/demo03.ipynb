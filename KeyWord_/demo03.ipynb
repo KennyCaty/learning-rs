{
 "cells": [
  {
   "cell_type": "code",
   "execution_count": 4,
   "metadata": {},
   "outputs": [
    {
     "name": "stdout",
     "output_type": "stream",
     "text": [
      "爬取文本：\n",
      " 标题： 吴邦国重申：中国坚持和平发展道路不会因国力地位变化而改变_共产党员网 \n",
      "正文： []\n",
      "\n"
     ]
    }
   ],
   "source": [
    "# import requests\n",
    "# from  lxml import html\n",
    "\n",
    "# etree=html.etree\n",
    "# url='http://news.12371.cn/2013/01/28/ARTI1359357184590944.shtml'\n",
    "# data=requests.get(url)\n",
    "# data.encoding='utf-8'\n",
    "# #print(data)\n",
    "# s=etree.HTML(data.text)\n",
    "# text1=s.xpath('//*[@id=\"font_area\"]/p/text()')#得到的文本是一个列表，里面有6项，代表6个自然段\n",
    "# title=s.xpath('/html/head/title/text()')[0].strip()#[0]是取标题的第一项，trip()去掉首尾空格\n",
    "# print(\"爬取文本：\\n\",\"标题：\",title,\"\\n正文：\",text1)\n",
    "# text=\"\"\n",
    "\n",
    "# # 将得到的文本写入文件\n",
    "# for i in range(0,len(text1)-1):\n",
    "#    text+=text1[i]\n",
    "# sentence_list=[]\n",
    "# print(text)\n",
    "# title=title+'.txt'\n",
    "# with open(title, 'w', encoding='utf-8') as f:\n",
    "#    f.writelines(text)"
   ]
  },
  {
   "cell_type": "code",
   "execution_count": 6,
   "metadata": {},
   "outputs": [
    {
     "name": "stdout",
     "output_type": "stream",
     "text": [
      "前10个句子为：\n",
      "\n",
      "['亚太地区影响最大的议会间组织——亚太议会论坛28日召在符拉迪沃斯托克召开年会', '中国全国人大常委会委员长吴邦国在与会发言中重申，坚持和平发展道路是中国基于时代发展潮流和自身根本利益作出的战略抉择，不会因为综合国力和国际地位的变化而改变', '亚太议会论坛成立于1993年，拥有中国、俄罗斯、美国等27个成员国', '年会是这个论坛的最高决策机构，每年轮流在太平洋两岸举行', '据了解，本届年会为期3天，与会代表将围绕地区安全、经济贸易、区域合作等议题进行坦诚对话', '吴邦国在年会主旨发言中阐述了中方在事关亚太地区和平发展重大问题上的原则主张', '他指出，促进亚太地区和平合作发展，是亚太各国的共同责任，各方要从战略高度审视地区形势和彼此关系，努力扩大共识、付诸行动', '“我们要摒弃冷战思维和零和博弈观念，相互尊重彼此主权和核心利益，推动建立公平有效的地区安全机制', '要积极推动高新技术、先进制造、节能环保、能源资源、现代农业等领域务实合作，反对各种形式的保护主义，推动贸易和投资自由化、区域经济一体化', '要尊重文明多样性，尊重各国人民自主选择的发展道路，促进不同文明和社会制度相互交流借鉴，推动亚太多元文明共同进步']\n",
      "句子总数： 24\n"
     ]
    }
   ],
   "source": [
    "import numpy as np\n",
    "import re,jieba\n",
    "from itertools import chain\n",
    "\n",
    "#打开文件\n",
    "sentences_list = []\n",
    "file_path='吴邦国重申：中国坚持和平发展道路不会因国力地位变化而改变_共产党员网.txt'\n",
    "fp = open(file_path,'r',encoding=\"utf8\")\n",
    "for line in fp.readlines():\n",
    "        if line.strip():\n",
    "            # 把元素按照[。！；？]进行分隔，得到句子。\n",
    "            line_split = re.split(r'[。！；？]',line.strip())\n",
    "            # [。！；？]这些符号也会划分出来，把它们去掉。\n",
    "            line_split = [line.strip() for line in line_split if line.strip() not in ['。','！','？','；'] and len(line.strip())>1]\n",
    "            sentences_list.append(line_split)\n",
    "sentences_list = list(chain.from_iterable(sentences_list))\n",
    "print(\"前10个句子为：\\n\")\n",
    "print(sentences_list[:10])\n",
    "print(\"句子总数：\", len(sentences_list))"
   ]
  },
  {
   "cell_type": "code",
   "execution_count": null,
   "metadata": {},
   "outputs": [],
   "source": [
    "#加载停用词\n",
    "stoplist= [word.strip() for word in open(r'stop_words\\baidu_stopwords.txt',encoding='utf-8').readlines()]\n",
    "# print(stoplist)\n",
    "\n",
    "# 对句子进行分词\n",
    "def seg_depart(sentence):\n",
    "    # 去掉非汉字字符\n",
    "    sentence = re.sub(r'[^\\u4e00-\\u9fa5]+','',sentence)\n",
    "    sentence_depart = jieba.cut(sentence.strip())\n",
    "    word_list = []\n",
    "    for word in sentence_depart:\n",
    "        if word not in stoplist:\n",
    "            word_list.append(word)\n",
    "    # 如果句子整个被过滤掉了，如：'02-2717:56'被过滤，那就返回[],保持句子的数量不变\n",
    "    return word_list\n",
    "\n",
    "sentence_word_list = []\n",
    "for sentence in sentences_list:\n",
    "    line_seg = seg_depart(sentence)\n",
    "    sentence_word_list.append(line_seg)\n",
    "print(\"一共有\",len(sentences_list),'个句子。\\n')\n",
    "print(\"前10个句子分词后的结果为：\\n\",sentence_word_list[:10])\n",
    "\n",
    "# 保证处理后句子的数量不变，我们后面才好根据textrank值取出未处理之前的句子作为摘要。\n",
    "if len(sentences_list) == len(sentence_word_list):\n",
    "    print(\"\\n数据预处理后句子的数量不变！\")"
   ]
  }
 ],
 "metadata": {
  "kernelspec": {
   "display_name": "d2l",
   "language": "python",
   "name": "python3"
  },
  "language_info": {
   "codemirror_mode": {
    "name": "ipython",
    "version": 3
   },
   "file_extension": ".py",
   "mimetype": "text/x-python",
   "name": "python",
   "nbconvert_exporter": "python",
   "pygments_lexer": "ipython3",
   "version": "3.9.17"
  }
 },
 "nbformat": 4,
 "nbformat_minor": 2
}
