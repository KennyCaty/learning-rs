{
 "cells": [
  {
   "cell_type": "code",
   "execution_count": 1,
   "metadata": {},
   "outputs": [],
   "source": [
    "from py2neo import Graph, Node, Relationship, NodeMatcher\n",
    "import py2neo"
   ]
  },
  {
   "cell_type": "code",
   "execution_count": 5,
   "metadata": {},
   "outputs": [],
   "source": [
    "g = Graph('http://localhost:7474', user='neo4j', password='12345678', name='neo4j')   # 后面报错Cannot decode response content as JSON要加上name='neo4j"
   ]
  },
  {
   "cell_type": "code",
   "execution_count": 3,
   "metadata": {},
   "outputs": [
    {
     "data": {
      "text/html": [
       "(No data)"
      ],
      "text/plain": [
       "(No data)"
      ]
     },
     "execution_count": 3,
     "metadata": {},
     "output_type": "execute_result"
    }
   ],
   "source": [
    "# g.run('match (n) detach delete n')"
   ]
  },
  {
   "cell_type": "markdown",
   "metadata": {},
   "source": [
    "# 创建一段关系链"
   ]
  },
  {
   "cell_type": "code",
   "execution_count": 6,
   "metadata": {},
   "outputs": [],
   "source": [
    "test_node_1 = Node('Person', name='吴彦祖')\n",
    "test_node_2 = Node('Person', name='周杰伦')\n",
    "friend = Relationship(test_node_1, 'friend', test_node_2)\n",
    "g.create(friend)"
   ]
  },
  {
   "cell_type": "markdown",
   "metadata": {},
   "source": [
    "## 建立一个节点"
   ]
  },
  {
   "cell_type": "code",
   "execution_count": 4,
   "metadata": {},
   "outputs": [
    {
     "ename": "ProtocolError",
     "evalue": "Cannot decode response content as JSON",
     "output_type": "error",
     "traceback": [
      "\u001b[1;31m---------------------------------------------------------------------------\u001b[0m",
      "\u001b[1;31mJSONDecodeError\u001b[0m                           Traceback (most recent call last)",
      "File \u001b[1;32md:\\CodeSoftware\\Anaconda\\envs\\d2l\\lib\\site-packages\\py2neo\\client\\http.py:443\u001b[0m, in \u001b[0;36mHTTPResponse.from_json\u001b[1;34m(cls, status, data)\u001b[0m\n\u001b[0;32m    442\u001b[0m \u001b[38;5;28;01mtry\u001b[39;00m:\n\u001b[1;32m--> 443\u001b[0m     content \u001b[38;5;241m=\u001b[39m \u001b[43mjson_loads\u001b[49m\u001b[43m(\u001b[49m\u001b[43mdata\u001b[49m\u001b[43m,\u001b[49m\u001b[43m \u001b[49m\u001b[43mobject_hook\u001b[49m\u001b[38;5;241;43m=\u001b[39;49m\u001b[43mJSONHydrant\u001b[49m\u001b[38;5;241;43m.\u001b[39;49m\u001b[43mjson_to_packstream\u001b[49m\u001b[43m)\u001b[49m\n\u001b[0;32m    444\u001b[0m \u001b[38;5;28;01mexcept\u001b[39;00m \u001b[38;5;167;01mValueError\u001b[39;00m \u001b[38;5;28;01mas\u001b[39;00m error:\n",
      "File \u001b[1;32md:\\CodeSoftware\\Anaconda\\envs\\d2l\\lib\\json\\__init__.py:359\u001b[0m, in \u001b[0;36mloads\u001b[1;34m(s, cls, object_hook, parse_float, parse_int, parse_constant, object_pairs_hook, **kw)\u001b[0m\n\u001b[0;32m    358\u001b[0m     kw[\u001b[38;5;124m'\u001b[39m\u001b[38;5;124mparse_constant\u001b[39m\u001b[38;5;124m'\u001b[39m] \u001b[38;5;241m=\u001b[39m parse_constant\n\u001b[1;32m--> 359\u001b[0m \u001b[38;5;28;01mreturn\u001b[39;00m \u001b[38;5;28;43mcls\u001b[39;49m\u001b[43m(\u001b[49m\u001b[38;5;241;43m*\u001b[39;49m\u001b[38;5;241;43m*\u001b[39;49m\u001b[43mkw\u001b[49m\u001b[43m)\u001b[49m\u001b[38;5;241;43m.\u001b[39;49m\u001b[43mdecode\u001b[49m\u001b[43m(\u001b[49m\u001b[43ms\u001b[49m\u001b[43m)\u001b[49m\n",
      "File \u001b[1;32md:\\CodeSoftware\\Anaconda\\envs\\d2l\\lib\\json\\decoder.py:337\u001b[0m, in \u001b[0;36mJSONDecoder.decode\u001b[1;34m(self, s, _w)\u001b[0m\n\u001b[0;32m    333\u001b[0m \u001b[38;5;250m\u001b[39m\u001b[38;5;124;03m\"\"\"Return the Python representation of ``s`` (a ``str`` instance\u001b[39;00m\n\u001b[0;32m    334\u001b[0m \u001b[38;5;124;03mcontaining a JSON document).\u001b[39;00m\n\u001b[0;32m    335\u001b[0m \n\u001b[0;32m    336\u001b[0m \u001b[38;5;124;03m\"\"\"\u001b[39;00m\n\u001b[1;32m--> 337\u001b[0m obj, end \u001b[38;5;241m=\u001b[39m \u001b[38;5;28;43mself\u001b[39;49m\u001b[38;5;241;43m.\u001b[39;49m\u001b[43mraw_decode\u001b[49m\u001b[43m(\u001b[49m\u001b[43ms\u001b[49m\u001b[43m,\u001b[49m\u001b[43m \u001b[49m\u001b[43midx\u001b[49m\u001b[38;5;241;43m=\u001b[39;49m\u001b[43m_w\u001b[49m\u001b[43m(\u001b[49m\u001b[43ms\u001b[49m\u001b[43m,\u001b[49m\u001b[43m \u001b[49m\u001b[38;5;241;43m0\u001b[39;49m\u001b[43m)\u001b[49m\u001b[38;5;241;43m.\u001b[39;49m\u001b[43mend\u001b[49m\u001b[43m(\u001b[49m\u001b[43m)\u001b[49m\u001b[43m)\u001b[49m\n\u001b[0;32m    338\u001b[0m end \u001b[38;5;241m=\u001b[39m _w(s, end)\u001b[38;5;241m.\u001b[39mend()\n",
      "File \u001b[1;32md:\\CodeSoftware\\Anaconda\\envs\\d2l\\lib\\json\\decoder.py:355\u001b[0m, in \u001b[0;36mJSONDecoder.raw_decode\u001b[1;34m(self, s, idx)\u001b[0m\n\u001b[0;32m    354\u001b[0m \u001b[38;5;28;01mexcept\u001b[39;00m \u001b[38;5;167;01mStopIteration\u001b[39;00m \u001b[38;5;28;01mas\u001b[39;00m err:\n\u001b[1;32m--> 355\u001b[0m     \u001b[38;5;28;01mraise\u001b[39;00m JSONDecodeError(\u001b[38;5;124m\"\u001b[39m\u001b[38;5;124mExpecting value\u001b[39m\u001b[38;5;124m\"\u001b[39m, s, err\u001b[38;5;241m.\u001b[39mvalue) \u001b[38;5;28;01mfrom\u001b[39;00m \u001b[38;5;28;01mNone\u001b[39;00m\n\u001b[0;32m    356\u001b[0m \u001b[38;5;28;01mreturn\u001b[39;00m obj, end\n",
      "\u001b[1;31mJSONDecodeError\u001b[0m: Expecting value: line 1 column 1 (char 0)",
      "\nThe above exception was the direct cause of the following exception:\n",
      "\u001b[1;31mProtocolError\u001b[0m                             Traceback (most recent call last)",
      "Cell \u001b[1;32mIn[4], line 4\u001b[0m\n\u001b[0;32m      2\u001b[0m test_node_2 \u001b[38;5;241m=\u001b[39m Node(\u001b[38;5;124m'\u001b[39m\u001b[38;5;124mPerson\u001b[39m\u001b[38;5;124m'\u001b[39m, name\u001b[38;5;241m=\u001b[39m\u001b[38;5;124m'\u001b[39m\u001b[38;5;124m周杰伦\u001b[39m\u001b[38;5;124m'\u001b[39m)\n\u001b[0;32m      3\u001b[0m friend \u001b[38;5;241m=\u001b[39m Relationship(test_node_1, \u001b[38;5;124m'\u001b[39m\u001b[38;5;124mfriend\u001b[39m\u001b[38;5;124m'\u001b[39m, test_node_2)\n\u001b[1;32m----> 4\u001b[0m \u001b[43mg\u001b[49m\u001b[38;5;241;43m.\u001b[39;49m\u001b[43mcreate\u001b[49m\u001b[43m(\u001b[49m\u001b[43mfriend\u001b[49m\u001b[43m)\u001b[49m\n",
      "File \u001b[1;32md:\\CodeSoftware\\Anaconda\\envs\\d2l\\lib\\site-packages\\py2neo\\database.py:591\u001b[0m, in \u001b[0;36mGraph.create\u001b[1;34m(self, subgraph)\u001b[0m\n\u001b[0;32m    584\u001b[0m \u001b[38;5;28;01mdef\u001b[39;00m \u001b[38;5;21mcreate\u001b[39m(\u001b[38;5;28mself\u001b[39m, subgraph):\n\u001b[0;32m    585\u001b[0m \u001b[38;5;250m    \u001b[39m\u001b[38;5;124;03m\"\"\" Run a :meth:`~py2neo.Transaction.create` operation within a\u001b[39;00m\n\u001b[0;32m    586\u001b[0m \u001b[38;5;124;03m    :class:`~py2neo.Transaction`.\u001b[39;00m\n\u001b[0;32m    587\u001b[0m \n\u001b[0;32m    588\u001b[0m \u001b[38;5;124;03m    :param subgraph: a :class:`.Node`, :class:`.Relationship` or other\u001b[39;00m\n\u001b[0;32m    589\u001b[0m \u001b[38;5;124;03m                   :class:`.Subgraph`\u001b[39;00m\n\u001b[0;32m    590\u001b[0m \u001b[38;5;124;03m    \"\"\"\u001b[39;00m\n\u001b[1;32m--> 591\u001b[0m     \u001b[38;5;28;43mself\u001b[39;49m\u001b[38;5;241;43m.\u001b[39;49m\u001b[43mupdate\u001b[49m\u001b[43m(\u001b[49m\u001b[38;5;28;43;01mlambda\u001b[39;49;00m\u001b[43m \u001b[49m\u001b[43mtx\u001b[49m\u001b[43m:\u001b[49m\u001b[43m \u001b[49m\u001b[43mtx\u001b[49m\u001b[38;5;241;43m.\u001b[39;49m\u001b[43mcreate\u001b[49m\u001b[43m(\u001b[49m\u001b[43msubgraph\u001b[49m\u001b[43m)\u001b[49m\u001b[43m)\u001b[49m\n",
      "File \u001b[1;32md:\\CodeSoftware\\Anaconda\\envs\\d2l\\lib\\site-packages\\py2neo\\database.py:445\u001b[0m, in \u001b[0;36mGraph.update\u001b[1;34m(self, cypher, parameters, timeout)\u001b[0m\n\u001b[0;32m    443\u001b[0m \u001b[38;5;28;01mif\u001b[39;00m \u001b[38;5;28mcallable\u001b[39m(cypher):\n\u001b[0;32m    444\u001b[0m     \u001b[38;5;28;01mif\u001b[39;00m parameters \u001b[38;5;129;01mis\u001b[39;00m \u001b[38;5;28;01mNone\u001b[39;00m:\n\u001b[1;32m--> 445\u001b[0m         \u001b[38;5;28;43mself\u001b[39;49m\u001b[38;5;241;43m.\u001b[39;49m\u001b[43m_update\u001b[49m\u001b[43m(\u001b[49m\u001b[43mcypher\u001b[49m\u001b[43m,\u001b[49m\u001b[43m \u001b[49m\u001b[43mtimeout\u001b[49m\u001b[38;5;241;43m=\u001b[39;49m\u001b[43mtimeout\u001b[49m\u001b[43m)\u001b[49m\n\u001b[0;32m    446\u001b[0m     \u001b[38;5;28;01melif\u001b[39;00m (\u001b[38;5;28misinstance\u001b[39m(parameters, \u001b[38;5;28mtuple\u001b[39m) \u001b[38;5;129;01mand\u001b[39;00m \u001b[38;5;28mlen\u001b[39m(parameters) \u001b[38;5;241m==\u001b[39m \u001b[38;5;241m2\u001b[39m \u001b[38;5;129;01mand\u001b[39;00m\n\u001b[0;32m    447\u001b[0m             \u001b[38;5;28misinstance\u001b[39m(parameters[\u001b[38;5;241m0\u001b[39m], Sequence) \u001b[38;5;129;01mand\u001b[39;00m \u001b[38;5;28misinstance\u001b[39m(parameters[\u001b[38;5;241m1\u001b[39m], Mapping)):\n\u001b[0;32m    448\u001b[0m         \u001b[38;5;28mself\u001b[39m\u001b[38;5;241m.\u001b[39m_update(\u001b[38;5;28;01mlambda\u001b[39;00m tx: cypher(tx, \u001b[38;5;241m*\u001b[39mparameters[\u001b[38;5;241m0\u001b[39m], \u001b[38;5;241m*\u001b[39m\u001b[38;5;241m*\u001b[39mparameters[\u001b[38;5;241m1\u001b[39m]),\n\u001b[0;32m    449\u001b[0m                      timeout\u001b[38;5;241m=\u001b[39mtimeout)\n",
      "File \u001b[1;32md:\\CodeSoftware\\Anaconda\\envs\\d2l\\lib\\site-packages\\py2neo\\database.py:467\u001b[0m, in \u001b[0;36mGraph._update\u001b[1;34m(self, f, timeout)\u001b[0m\n\u001b[0;32m    465\u001b[0m tx \u001b[38;5;241m=\u001b[39m \u001b[38;5;28;01mNone\u001b[39;00m\n\u001b[0;32m    466\u001b[0m \u001b[38;5;28;01mtry\u001b[39;00m:\n\u001b[1;32m--> 467\u001b[0m     tx \u001b[38;5;241m=\u001b[39m \u001b[38;5;28;43mself\u001b[39;49m\u001b[38;5;241;43m.\u001b[39;49m\u001b[43mbegin\u001b[49m\u001b[43m(\u001b[49m\n\u001b[0;32m    468\u001b[0m \u001b[43m                    \u001b[49m\u001b[38;5;66;43;03m# after=after, metadata=metadata, timeout=timeout\u001b[39;49;00m\n\u001b[0;32m    469\u001b[0m \u001b[43m                    \u001b[49m\u001b[43m)\u001b[49m\n\u001b[0;32m    470\u001b[0m     value \u001b[38;5;241m=\u001b[39m f(tx)\n\u001b[0;32m    471\u001b[0m     \u001b[38;5;28;01mif\u001b[39;00m isgenerator(value):\n",
      "File \u001b[1;32md:\\CodeSoftware\\Anaconda\\envs\\d2l\\lib\\site-packages\\py2neo\\database.py:351\u001b[0m, in \u001b[0;36mGraph.begin\u001b[1;34m(self, readonly)\u001b[0m\n\u001b[0;32m    340\u001b[0m \u001b[38;5;28;01mdef\u001b[39;00m \u001b[38;5;21mbegin\u001b[39m(\u001b[38;5;28mself\u001b[39m, readonly\u001b[38;5;241m=\u001b[39m\u001b[38;5;28;01mFalse\u001b[39;00m,\n\u001b[0;32m    341\u001b[0m           \u001b[38;5;66;03m# after=None, metadata=None, timeout=None\u001b[39;00m\n\u001b[0;32m    342\u001b[0m           ):\n\u001b[0;32m    343\u001b[0m \u001b[38;5;250m    \u001b[39m\u001b[38;5;124;03m\"\"\" Begin a new :class:`~py2neo.Transaction`.\u001b[39;00m\n\u001b[0;32m    344\u001b[0m \n\u001b[0;32m    345\u001b[0m \u001b[38;5;124;03m    :param readonly: if :py:const:`True`, will begin a readonly\u001b[39;00m\n\u001b[1;32m   (...)\u001b[0m\n\u001b[0;32m    349\u001b[0m \u001b[38;5;124;03m    removed. Use the 'auto' method instead.*\u001b[39;00m\n\u001b[0;32m    350\u001b[0m \u001b[38;5;124;03m    \"\"\"\u001b[39;00m\n\u001b[1;32m--> 351\u001b[0m     \u001b[38;5;28;01mreturn\u001b[39;00m \u001b[43mTransaction\u001b[49m\u001b[43m(\u001b[49m\u001b[38;5;28;43mself\u001b[39;49m\u001b[43m,\u001b[49m\u001b[43m \u001b[49m\u001b[43mautocommit\u001b[49m\u001b[38;5;241;43m=\u001b[39;49m\u001b[38;5;28;43;01mFalse\u001b[39;49;00m\u001b[43m,\u001b[49m\u001b[43m \u001b[49m\u001b[43mreadonly\u001b[49m\u001b[38;5;241;43m=\u001b[39;49m\u001b[43mreadonly\u001b[49m\u001b[43m,\u001b[49m\n\u001b[0;32m    352\u001b[0m \u001b[43m                       \u001b[49m\u001b[38;5;66;43;03m# after, metadata, timeout\u001b[39;49;00m\n\u001b[0;32m    353\u001b[0m \u001b[43m                       \u001b[49m\u001b[43m)\u001b[49m\n",
      "File \u001b[1;32md:\\CodeSoftware\\Anaconda\\envs\\d2l\\lib\\site-packages\\py2neo\\database.py:915\u001b[0m, in \u001b[0;36mTransaction.__init__\u001b[1;34m(self, graph, autocommit, readonly)\u001b[0m\n\u001b[0;32m    913\u001b[0m     \u001b[38;5;28mself\u001b[39m\u001b[38;5;241m.\u001b[39m_ref \u001b[38;5;241m=\u001b[39m \u001b[38;5;28;01mNone\u001b[39;00m\n\u001b[0;32m    914\u001b[0m \u001b[38;5;28;01melse\u001b[39;00m:\n\u001b[1;32m--> 915\u001b[0m     \u001b[38;5;28mself\u001b[39m\u001b[38;5;241m.\u001b[39m_ref \u001b[38;5;241m=\u001b[39m \u001b[38;5;28;43mself\u001b[39;49m\u001b[38;5;241;43m.\u001b[39;49m\u001b[43m_connector\u001b[49m\u001b[38;5;241;43m.\u001b[39;49m\u001b[43mbegin\u001b[49m\u001b[43m(\u001b[49m\u001b[38;5;28;43mself\u001b[39;49m\u001b[38;5;241;43m.\u001b[39;49m\u001b[43mgraph\u001b[49m\u001b[38;5;241;43m.\u001b[39;49m\u001b[43mname\u001b[49m\u001b[43m,\u001b[49m\u001b[43m \u001b[49m\u001b[43mreadonly\u001b[49m\u001b[38;5;241;43m=\u001b[39;49m\u001b[43mreadonly\u001b[49m\u001b[43m,\u001b[49m\n\u001b[0;32m    916\u001b[0m \u001b[43m                                      \u001b[49m\u001b[38;5;66;43;03m# after, metadata, timeout\u001b[39;49;00m\n\u001b[0;32m    917\u001b[0m \u001b[43m                                      \u001b[49m\u001b[43m)\u001b[49m\n\u001b[0;32m    918\u001b[0m \u001b[38;5;28mself\u001b[39m\u001b[38;5;241m.\u001b[39m_readonly \u001b[38;5;241m=\u001b[39m readonly\n\u001b[0;32m    919\u001b[0m \u001b[38;5;28mself\u001b[39m\u001b[38;5;241m.\u001b[39m_closed \u001b[38;5;241m=\u001b[39m \u001b[38;5;28;01mFalse\u001b[39;00m\n",
      "File \u001b[1;32md:\\CodeSoftware\\Anaconda\\envs\\d2l\\lib\\site-packages\\py2neo\\client\\__init__.py:1359\u001b[0m, in \u001b[0;36mConnector.begin\u001b[1;34m(self, graph_name, readonly)\u001b[0m\n\u001b[0;32m   1357\u001b[0m cx \u001b[38;5;241m=\u001b[39m \u001b[38;5;28mself\u001b[39m\u001b[38;5;241m.\u001b[39m_acquire(graph_name)\n\u001b[0;32m   1358\u001b[0m \u001b[38;5;28;01mtry\u001b[39;00m:\n\u001b[1;32m-> 1359\u001b[0m     \u001b[38;5;28;01mreturn\u001b[39;00m \u001b[43mcx\u001b[49m\u001b[38;5;241;43m.\u001b[39;49m\u001b[43mbegin\u001b[49m\u001b[43m(\u001b[49m\u001b[43mgraph_name\u001b[49m\u001b[43m,\u001b[49m\u001b[43m \u001b[49m\u001b[43mreadonly\u001b[49m\u001b[38;5;241;43m=\u001b[39;49m\u001b[43mreadonly\u001b[49m\u001b[43m,\u001b[49m\n\u001b[0;32m   1360\u001b[0m \u001b[43m                    \u001b[49m\u001b[38;5;66;43;03m# after=after, metadata=metadata, timeout=timeout\u001b[39;49;00m\n\u001b[0;32m   1361\u001b[0m \u001b[43m                    \u001b[49m\u001b[43m)\u001b[49m\n\u001b[0;32m   1362\u001b[0m \u001b[38;5;28;01mexcept\u001b[39;00m (ConnectionUnavailable, ConnectionBroken):\n\u001b[0;32m   1363\u001b[0m     \u001b[38;5;28mself\u001b[39m\u001b[38;5;241m.\u001b[39mprune(cx\u001b[38;5;241m.\u001b[39mprofile)\n",
      "File \u001b[1;32md:\\CodeSoftware\\Anaconda\\envs\\d2l\\lib\\site-packages\\py2neo\\client\\http.py:199\u001b[0m, in \u001b[0;36mHTTP.begin\u001b[1;34m(self, graph_name, readonly)\u001b[0m\n\u001b[0;32m    189\u001b[0m \u001b[38;5;28;01mtry\u001b[39;00m:\n\u001b[0;32m    190\u001b[0m     \u001b[38;5;66;03m# if readonly:\u001b[39;00m\n\u001b[0;32m    191\u001b[0m     \u001b[38;5;66;03m#     log.warning(\"Readonly transactions are not supported over HTTP\")\u001b[39;00m\n\u001b[1;32m   (...)\u001b[0m\n\u001b[0;32m    196\u001b[0m     \u001b[38;5;66;03m# if timeout:\u001b[39;00m\n\u001b[0;32m    197\u001b[0m     \u001b[38;5;66;03m#     raise TypeError(\"Transaction timeouts are not supported over HTTP\")\u001b[39;00m\n\u001b[0;32m    198\u001b[0m     r \u001b[38;5;241m=\u001b[39m \u001b[38;5;28mself\u001b[39m\u001b[38;5;241m.\u001b[39m_post(HTTPTransactionRef\u001b[38;5;241m.\u001b[39mbegin_uri(graph_name))\n\u001b[1;32m--> 199\u001b[0m     rs \u001b[38;5;241m=\u001b[39m \u001b[43mHTTPResponse\u001b[49m\u001b[38;5;241;43m.\u001b[39;49m\u001b[43mfrom_json\u001b[49m\u001b[43m(\u001b[49m\u001b[43mr\u001b[49m\u001b[38;5;241;43m.\u001b[39;49m\u001b[43mstatus\u001b[49m\u001b[43m,\u001b[49m\u001b[43m \u001b[49m\u001b[43mr\u001b[49m\u001b[38;5;241;43m.\u001b[39;49m\u001b[43mdata\u001b[49m\u001b[38;5;241;43m.\u001b[39;49m\u001b[43mdecode\u001b[49m\u001b[43m(\u001b[49m\u001b[38;5;124;43m\"\u001b[39;49m\u001b[38;5;124;43mutf-8\u001b[39;49m\u001b[38;5;124;43m\"\u001b[39;49m\u001b[43m)\u001b[49m\u001b[43m)\u001b[49m\n\u001b[0;32m    200\u001b[0m     location_path \u001b[38;5;241m=\u001b[39m urlsplit(r\u001b[38;5;241m.\u001b[39mheaders[\u001b[38;5;124m\"\u001b[39m\u001b[38;5;124mLocation\u001b[39m\u001b[38;5;124m\"\u001b[39m])\u001b[38;5;241m.\u001b[39mpath\n\u001b[0;32m    201\u001b[0m     tx \u001b[38;5;241m=\u001b[39m HTTPTransactionRef(graph_name, location_path\u001b[38;5;241m.\u001b[39mrpartition(\u001b[38;5;124m\"\u001b[39m\u001b[38;5;124m/\u001b[39m\u001b[38;5;124m\"\u001b[39m)[\u001b[38;5;241m-\u001b[39m\u001b[38;5;241m1\u001b[39m])\n",
      "File \u001b[1;32md:\\CodeSoftware\\Anaconda\\envs\\d2l\\lib\\site-packages\\py2neo\\client\\http.py:445\u001b[0m, in \u001b[0;36mHTTPResponse.from_json\u001b[1;34m(cls, status, data)\u001b[0m\n\u001b[0;32m    443\u001b[0m     content \u001b[38;5;241m=\u001b[39m json_loads(data, object_hook\u001b[38;5;241m=\u001b[39mJSONHydrant\u001b[38;5;241m.\u001b[39mjson_to_packstream)\n\u001b[0;32m    444\u001b[0m \u001b[38;5;28;01mexcept\u001b[39;00m \u001b[38;5;167;01mValueError\u001b[39;00m \u001b[38;5;28;01mas\u001b[39;00m error:\n\u001b[1;32m--> 445\u001b[0m     \u001b[43mraise_from\u001b[49m\u001b[43m(\u001b[49m\u001b[43mProtocolError\u001b[49m\u001b[43m(\u001b[49m\u001b[38;5;124;43m\"\u001b[39;49m\u001b[38;5;124;43mCannot decode response content as JSON\u001b[39;49m\u001b[38;5;124;43m\"\u001b[39;49m\u001b[43m)\u001b[49m\u001b[43m,\u001b[49m\u001b[43m \u001b[49m\u001b[43merror\u001b[49m\u001b[43m)\u001b[49m\n\u001b[0;32m    446\u001b[0m \u001b[38;5;28;01melse\u001b[39;00m:\n\u001b[0;32m    447\u001b[0m     \u001b[38;5;28;01mreturn\u001b[39;00m \u001b[38;5;28mcls\u001b[39m(status, content)\n",
      "File \u001b[1;32m<string>:3\u001b[0m, in \u001b[0;36mraise_from\u001b[1;34m(value, from_value)\u001b[0m\n",
      "\u001b[1;31mProtocolError\u001b[0m: Cannot decode response content as JSON"
     ]
    }
   ],
   "source": [
    "test_node_1 = Node('Person', name='吴彦祖')\n",
    "test_node_2 = Node('Person', name='周杰伦')\n"
   ]
  },
  {
   "cell_type": "code",
   "execution_count": 5,
   "metadata": {},
   "outputs": [],
   "source": [
    "test_node_1['age']=18\n",
    "test_node_1['sex']='男'\n",
    "\n",
    "test_node_2['age']=16\n",
    "test_node_2['sex']='女'"
   ]
  },
  {
   "cell_type": "code",
   "execution_count": 6,
   "metadata": {},
   "outputs": [],
   "source": [
    "## 创建节点\n",
    "g.create(test_node_1)\n",
    "g.create(test_node_2)"
   ]
  },
  {
   "cell_type": "code",
   "execution_count": 7,
   "metadata": {},
   "outputs": [],
   "source": [
    "## 覆盖节点\n",
    "g.merge(test_node_1, \"Person\",\"name\")\n",
    "g.merge(test_node_2, \"Person\",\"name\")"
   ]
  },
  {
   "cell_type": "markdown",
   "metadata": {},
   "source": [
    "## 创建关系"
   ]
  },
  {
   "cell_type": "code",
   "execution_count": 8,
   "metadata": {},
   "outputs": [],
   "source": [
    "friend = Relationship(test_node_1, 'friend', test_node_2)"
   ]
  },
  {
   "cell_type": "code",
   "execution_count": 9,
   "metadata": {},
   "outputs": [],
   "source": [
    "g.merge(friend, \"Person\", \"name\")"
   ]
  },
  {
   "cell_type": "code",
   "execution_count": null,
   "metadata": {},
   "outputs": [],
   "source": []
  },
  {
   "cell_type": "markdown",
   "metadata": {},
   "source": [
    "## 查询节点"
   ]
  },
  {
   "cell_type": "code",
   "execution_count": 11,
   "metadata": {},
   "outputs": [
    {
     "name": "stdout",
     "output_type": "stream",
     "text": [
      "(_0:Person {name: '\\u5434\\u5f66\\u7956'})\n",
      "dict_items([('name', '吴彦祖')])\n",
      ":Person\n",
      "(_1:Person {name: '\\u5468\\u6770\\u4f26'})\n",
      "dict_items([('name', '周杰伦')])\n",
      ":Person\n"
     ]
    }
   ],
   "source": [
    "# 匹配所有节点\n",
    "nodes = g.nodes.match()\n",
    "\n",
    "for node in nodes:\n",
    "    print(node)\n",
    "    print(node.items())\n",
    "    print(node.labels)"
   ]
  },
  {
   "cell_type": "code",
   "execution_count": 18,
   "metadata": {},
   "outputs": [
    {
     "name": "stdout",
     "output_type": "stream",
     "text": [
      "(_1:Person {name: '\\u5468\\u6770\\u4f26'})\n",
      "周杰伦\n",
      "\n",
      "\n",
      "[Node('Person', name='周杰伦')]\n",
      "(_1:Person {name: '\\u5468\\u6770\\u4f26'})\n",
      "周杰伦\n"
     ]
    }
   ],
   "source": [
    "# 精确查找\n",
    "matcher = NodeMatcher(g)\n",
    "\n",
    "# 返回第一个匹配的节点\n",
    "node1 = matcher.match(\"Person\", name=\"周杰伦\").first() \n",
    "print(node1)\n",
    "print(node1['name'])\n",
    "\n",
    "print('\\n')\n",
    "# 返回多个匹配的节点\n",
    "node1 = matcher.match(\"Person\", name=\"周杰伦\").all() \n",
    "print(node1)\n",
    "print(node1[0])\n",
    "print(node1[0]['name'])"
   ]
  },
  {
   "cell_type": "markdown",
   "metadata": {},
   "source": [
    "# 更新节点"
   ]
  },
  {
   "cell_type": "markdown",
   "metadata": {},
   "source": [
    "先找出Nodes，在使用事务的push更新"
   ]
  },
  {
   "cell_type": "code",
   "execution_count": 19,
   "metadata": {},
   "outputs": [
    {
     "name": "stderr",
     "output_type": "stream",
     "text": [
      "C:\\Users\\19396\\AppData\\Local\\Temp\\ipykernel_24524\\2661891343.py:14: DeprecationWarning: The transaction.commit() method is deprecated, use graph.commit(transaction) instead\n",
      "  tx.commit()\n"
     ]
    }
   ],
   "source": [
    "from py2neo import Graph, Node, Relationship, NodeMatcher, Subgraph\n",
    "g = Graph('http://localhost:7474', user='neo4j', password='12345678', name='neo4j')\n",
    "\n",
    "tx = g.begin()\n",
    "# 找到你要找的node\n",
    "matcher = NodeMatcher(g)\n",
    "\n",
    "# 修改单个节点\n",
    "init_node = matcher.match(\"Person\",name=\"周杰伦\")\n",
    "new_node = init_node.first()\n",
    "new_node['name'] = '周捷纶'\n",
    "sub = Subgraph(nodes=[new_node])\n",
    "tx.push(sub)\n",
    "tx.commit()\n",
    "\n",
    "# 修改多个节点\n",
    "# init_node = matcher.match(\"Person\",name=\"周杰伦\")\n",
    "# new_node = []\n",
    "# for node in init_node.all():\n",
    "#     node['name'] = 'haha' + node['name']\n",
    "#     new_node.append(node)\n",
    "    \n",
    "# sub = Subgraph(nodes=new_node)\n",
    "# tx.push(sub)\n",
    "# tx.commit()\n"
   ]
  },
  {
   "cell_type": "markdown",
   "metadata": {},
   "source": [
    "# 删除节点/关系"
   ]
  },
  {
   "cell_type": "code",
   "execution_count": null,
   "metadata": {},
   "outputs": [],
   "source": [
    "from py2neo import Graph, Node, Relationship, NodeMatcher, RelationshipMatcher\n",
    "g = Graph('http://localhost:7474', user='neo4j', password='12345678', name='neo4j')\n",
    "\n",
    "# 找到你要找的node\n",
    "matcher = NodeMatcher(g)\n",
    "r_matcher = RelationshipMatcher(g)\n",
    "\n",
    "zjl = matcher.match(\"Person\", name=\"周捷纶\").first()\n",
    "wyz = matcher.match(\"Person\", name=\"吴彦祖\").first()\n",
    "\n",
    "relation = r_matcher.match(nodes=[zjl, wyz].first)\n",
    "\n",
    "g.delete(relation) # 删除关系，节点也会无"
   ]
  }
 ],
 "metadata": {
  "kernelspec": {
   "display_name": "d2l",
   "language": "python",
   "name": "python3"
  },
  "language_info": {
   "codemirror_mode": {
    "name": "ipython",
    "version": 3
   },
   "file_extension": ".py",
   "mimetype": "text/x-python",
   "name": "python",
   "nbconvert_exporter": "python",
   "pygments_lexer": "ipython3",
   "version": "3.9.17"
  }
 },
 "nbformat": 4,
 "nbformat_minor": 2
}
