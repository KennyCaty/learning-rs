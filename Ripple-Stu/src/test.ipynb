{
 "cells": [
  {
   "cell_type": "markdown",
   "metadata": {},
   "source": [
    "# 给学生加索引（从0开始）"
   ]
  },
  {
   "cell_type": "code",
   "execution_count": 13,
   "metadata": {},
   "outputs": [
    {
     "data": {
      "text/plain": [
       "array([[  0, 185,   0],\n",
       "       [  0, 442,   0],\n",
       "       [  0,  71,   0],\n",
       "       ...,\n",
       "       [125, 140,   1],\n",
       "       [125, 133,   1],\n",
       "       [125,  55,   0]])"
      ]
     },
     "execution_count": 13,
     "metadata": {},
     "output_type": "execute_result"
    }
   ],
   "source": [
    "import numpy as np\n",
    "data = np.load('../models/train_data.npy')\n",
    "data"
   ]
  },
  {
   "cell_type": "code",
   "execution_count": 18,
   "metadata": {},
   "outputs": [],
   "source": [
    "# data: [[user, item, rate]...]\n",
    "import numpy as np\n",
    "data = np.load('../models/train_data.npy')\n",
    "ripple_set = np.load('../models/ripple_set.npy', allow_pickle=True\n",
    ").item()\n",
    "\n",
    "import torch\n",
    "def get_feed_dict(args, model, data, ripple_set, start=0, end=100):\n",
    "    items = torch.LongTensor(data[start:end, 1])  # 一维 [item1, item2...]\n",
    "    labels = torch.LongTensor(data[start:end, 2])  # 一维\n",
    "    memories_h, memories_r, memories_t = [], [], []\n",
    "    # memories_h:\n",
    "    # [[h1, h2,...],  第1层的所有头节点\n",
    "    #  [...]...]      第2层..\n",
    "    for i in range(args['n_hop']):\n",
    "        memories_h.append(torch.LongTensor([ripple_set[user][i][0] for user in data[start:end, 0]]))\n",
    "        memories_r.append(torch.LongTensor([ripple_set[user][i][1] for user in data[start:end, 0]]))\n",
    "        memories_t.append(torch.LongTensor([ripple_set[user][i][2] for user in data[start:end, 0]]))\n",
    "    if args['use_cuda']:\n",
    "        items = items.cuda()\n",
    "        labels = labels.cuda()\n",
    "        memories_h = list(map(lambda x: x.cuda(), memories_h))\n",
    "        memories_r = list(map(lambda x: x.cuda(), memories_r))\n",
    "        memories_t = list(map(lambda x: x.cuda(), memories_t))\n",
    "    return items, labels, memories_h, memories_r,memories_t"
   ]
  },
  {
   "cell_type": "code",
   "execution_count": 21,
   "metadata": {},
   "outputs": [
    {
     "ename": "IndexError",
     "evalue": "list index out of range",
     "output_type": "error",
     "traceback": [
      "\u001b[1;31m---------------------------------------------------------------------------\u001b[0m",
      "\u001b[1;31mIndexError\u001b[0m                                Traceback (most recent call last)",
      "Cell \u001b[1;32mIn[21], line 6\u001b[0m\n\u001b[0;32m      1\u001b[0m args \u001b[38;5;241m=\u001b[39m {\n\u001b[0;32m      2\u001b[0m     \u001b[38;5;124m'\u001b[39m\u001b[38;5;124mn_hop\u001b[39m\u001b[38;5;124m'\u001b[39m : \u001b[38;5;241m2\u001b[39m,\n\u001b[0;32m      3\u001b[0m     \u001b[38;5;124m'\u001b[39m\u001b[38;5;124muse_cuda\u001b[39m\u001b[38;5;124m'\u001b[39m : \u001b[38;5;28;01mTrue\u001b[39;00m\n\u001b[0;32m      4\u001b[0m }\n\u001b[0;32m      5\u001b[0m model \u001b[38;5;241m=\u001b[39m \u001b[38;5;28;01mNone\u001b[39;00m\n\u001b[1;32m----> 6\u001b[0m items, labels, memories_h, memories_r,memories_t \u001b[38;5;241m=\u001b[39m \u001b[43mget_feed_dict\u001b[49m\u001b[43m(\u001b[49m\u001b[43margs\u001b[49m\u001b[43m,\u001b[49m\u001b[43m \u001b[49m\u001b[43mmodel\u001b[49m\u001b[43m,\u001b[49m\u001b[43mdata\u001b[49m\u001b[43m,\u001b[49m\u001b[43m \u001b[49m\u001b[43mripple_set\u001b[49m\u001b[43m)\u001b[49m\n",
      "Cell \u001b[1;32mIn[18], line 16\u001b[0m, in \u001b[0;36mget_feed_dict\u001b[1;34m(args, model, data, ripple_set, start, end)\u001b[0m\n\u001b[0;32m     12\u001b[0m \u001b[38;5;66;03m# memories_h:\u001b[39;00m\n\u001b[0;32m     13\u001b[0m \u001b[38;5;66;03m# [[h1, h2,...],  第1层的所有头节点\u001b[39;00m\n\u001b[0;32m     14\u001b[0m \u001b[38;5;66;03m#  [...]...]      第2层..\u001b[39;00m\n\u001b[0;32m     15\u001b[0m \u001b[38;5;28;01mfor\u001b[39;00m i \u001b[38;5;129;01min\u001b[39;00m \u001b[38;5;28mrange\u001b[39m(args[\u001b[38;5;124m'\u001b[39m\u001b[38;5;124mn_hop\u001b[39m\u001b[38;5;124m'\u001b[39m]):\n\u001b[1;32m---> 16\u001b[0m     memories_h\u001b[38;5;241m.\u001b[39mappend(torch\u001b[38;5;241m.\u001b[39mLongTensor([ripple_set[user][i][\u001b[38;5;241m0\u001b[39m] \u001b[38;5;28;01mfor\u001b[39;00m user \u001b[38;5;129;01min\u001b[39;00m data[start:end, \u001b[38;5;241m0\u001b[39m]]))\n\u001b[0;32m     17\u001b[0m     memories_r\u001b[38;5;241m.\u001b[39mappend(torch\u001b[38;5;241m.\u001b[39mLongTensor([ripple_set[user][i][\u001b[38;5;241m1\u001b[39m] \u001b[38;5;28;01mfor\u001b[39;00m user \u001b[38;5;129;01min\u001b[39;00m data[start:end, \u001b[38;5;241m0\u001b[39m]]))\n\u001b[0;32m     18\u001b[0m     memories_t\u001b[38;5;241m.\u001b[39mappend(torch\u001b[38;5;241m.\u001b[39mLongTensor([ripple_set[user][i][\u001b[38;5;241m2\u001b[39m] \u001b[38;5;28;01mfor\u001b[39;00m user \u001b[38;5;129;01min\u001b[39;00m data[start:end, \u001b[38;5;241m0\u001b[39m]]))\n",
      "Cell \u001b[1;32mIn[18], line 16\u001b[0m, in \u001b[0;36m<listcomp>\u001b[1;34m(.0)\u001b[0m\n\u001b[0;32m     12\u001b[0m \u001b[38;5;66;03m# memories_h:\u001b[39;00m\n\u001b[0;32m     13\u001b[0m \u001b[38;5;66;03m# [[h1, h2,...],  第1层的所有头节点\u001b[39;00m\n\u001b[0;32m     14\u001b[0m \u001b[38;5;66;03m#  [...]...]      第2层..\u001b[39;00m\n\u001b[0;32m     15\u001b[0m \u001b[38;5;28;01mfor\u001b[39;00m i \u001b[38;5;129;01min\u001b[39;00m \u001b[38;5;28mrange\u001b[39m(args[\u001b[38;5;124m'\u001b[39m\u001b[38;5;124mn_hop\u001b[39m\u001b[38;5;124m'\u001b[39m]):\n\u001b[1;32m---> 16\u001b[0m     memories_h\u001b[38;5;241m.\u001b[39mappend(torch\u001b[38;5;241m.\u001b[39mLongTensor([\u001b[43mripple_set\u001b[49m\u001b[43m[\u001b[49m\u001b[43muser\u001b[49m\u001b[43m]\u001b[49m\u001b[43m[\u001b[49m\u001b[43mi\u001b[49m\u001b[43m]\u001b[49m[\u001b[38;5;241m0\u001b[39m] \u001b[38;5;28;01mfor\u001b[39;00m user \u001b[38;5;129;01min\u001b[39;00m data[start:end, \u001b[38;5;241m0\u001b[39m]]))\n\u001b[0;32m     17\u001b[0m     memories_r\u001b[38;5;241m.\u001b[39mappend(torch\u001b[38;5;241m.\u001b[39mLongTensor([ripple_set[user][i][\u001b[38;5;241m1\u001b[39m] \u001b[38;5;28;01mfor\u001b[39;00m user \u001b[38;5;129;01min\u001b[39;00m data[start:end, \u001b[38;5;241m0\u001b[39m]]))\n\u001b[0;32m     18\u001b[0m     memories_t\u001b[38;5;241m.\u001b[39mappend(torch\u001b[38;5;241m.\u001b[39mLongTensor([ripple_set[user][i][\u001b[38;5;241m2\u001b[39m] \u001b[38;5;28;01mfor\u001b[39;00m user \u001b[38;5;129;01min\u001b[39;00m data[start:end, \u001b[38;5;241m0\u001b[39m]]))\n",
      "\u001b[1;31mIndexError\u001b[0m: list index out of range"
     ]
    }
   ],
   "source": [
    "args = {\n",
    "    'n_hop' : 2,\n",
    "    'use_cuda' : True\n",
    "}\n",
    "model = None\n",
    "items, labels, memories_h, memories_r,memories_t = get_feed_dict(args, model,data, ripple_set)"
   ]
  }
 ],
 "metadata": {
  "kernelspec": {
   "display_name": "d2l",
   "language": "python",
   "name": "python3"
  },
  "language_info": {
   "codemirror_mode": {
    "name": "ipython",
    "version": 3
   },
   "file_extension": ".py",
   "mimetype": "text/x-python",
   "name": "python",
   "nbconvert_exporter": "python",
   "pygments_lexer": "ipython3",
   "version": "3.9.17"
  }
 },
 "nbformat": 4,
 "nbformat_minor": 2
}
